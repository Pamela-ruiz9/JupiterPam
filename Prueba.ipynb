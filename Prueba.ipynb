{
  "nbformat": 4,
  "nbformat_minor": 0,
  "metadata": {
    "colab": {
      "name": "Prueba.ipynb",
      "provenance": [],
      "authorship_tag": "ABX9TyOP0eZG4ByfYutIC0ebT+l7",
      "include_colab_link": true
    },
    "kernelspec": {
      "name": "python3",
      "display_name": "Python 3"
    },
    "widgets": {
      "application/vnd.jupyter.widget-state+json": {
        "1b8001b51c3f4e51a92168adaac3564b": {
          "model_module": "@jupyter-widgets/controls",
          "model_name": "ToggleButtonModel",
          "state": {
            "_view_name": "ToggleButtonView",
            "style": "IPY_MODEL_4cace9778ba24e4ea60192233d9ac900",
            "_dom_classes": [],
            "description": "Show code",
            "_model_name": "ToggleButtonModel",
            "button_style": "",
            "_view_module": "@jupyter-widgets/controls",
            "_model_module_version": "1.5.0",
            "tooltip": "",
            "_view_count": null,
            "disabled": false,
            "_view_module_version": "1.5.0",
            "value": false,
            "description_tooltip": null,
            "_model_module": "@jupyter-widgets/controls",
            "layout": "IPY_MODEL_37d3ad0baac944ff818403991f75b3f4",
            "icon": ""
          }
        },
        "4cace9778ba24e4ea60192233d9ac900": {
          "model_module": "@jupyter-widgets/controls",
          "model_name": "DescriptionStyleModel",
          "state": {
            "_view_name": "StyleView",
            "_model_name": "DescriptionStyleModel",
            "description_width": "",
            "_view_module": "@jupyter-widgets/base",
            "_model_module_version": "1.5.0",
            "_view_count": null,
            "_view_module_version": "1.2.0",
            "_model_module": "@jupyter-widgets/controls"
          }
        },
        "37d3ad0baac944ff818403991f75b3f4": {
          "model_module": "@jupyter-widgets/base",
          "model_name": "LayoutModel",
          "state": {
            "_view_name": "LayoutView",
            "grid_template_rows": null,
            "right": null,
            "justify_content": null,
            "_view_module": "@jupyter-widgets/base",
            "overflow": null,
            "_model_module_version": "1.2.0",
            "_view_count": null,
            "flex_flow": null,
            "width": null,
            "min_width": null,
            "border": null,
            "align_items": null,
            "bottom": null,
            "_model_module": "@jupyter-widgets/base",
            "top": null,
            "grid_column": null,
            "overflow_y": null,
            "overflow_x": null,
            "grid_auto_flow": null,
            "grid_area": null,
            "grid_template_columns": null,
            "flex": null,
            "_model_name": "LayoutModel",
            "justify_items": null,
            "grid_row": null,
            "max_height": null,
            "align_content": null,
            "visibility": null,
            "align_self": null,
            "height": null,
            "min_height": null,
            "padding": null,
            "grid_auto_rows": null,
            "grid_gap": null,
            "max_width": null,
            "order": null,
            "_view_module_version": "1.2.0",
            "grid_template_areas": null,
            "object_position": null,
            "object_fit": null,
            "grid_auto_columns": null,
            "margin": null,
            "display": null,
            "left": null
          }
        }
      }
    }
  },
  "cells": [
    {
      "cell_type": "markdown",
      "metadata": {
        "id": "view-in-github",
        "colab_type": "text"
      },
      "source": [
        "<a href=\"https://colab.research.google.com/github/Pamela-ruiz9/JupiterPam/blob/master/Prueba.ipynb\" target=\"_parent\"><img src=\"https://colab.research.google.com/assets/colab-badge.svg\" alt=\"Open In Colab\"/></a>"
      ]
    },
    {
      "cell_type": "markdown",
      "metadata": {
        "id": "UNN2-pgwId8a",
        "colab_type": "text"
      },
      "source": [
        "\n",
        "\n",
        "# Holaa"
      ]
    },
    {
      "cell_type": "code",
      "metadata": {
        "id": "GqFt4MonH3Ge",
        "colab_type": "code",
        "colab": {
          "base_uri": "https://localhost:8080/",
          "height": 305
        },
        "outputId": "40026c98-d649-4af2-f7bb-1627256d8f38"
      },
      "source": [
        "import matplotlib.pyplot as plt\n",
        "import numpy as np\n",
        "%matplotlib inline\n",
        "\n",
        "def f(x):\n",
        "    return 1/x\n",
        "\n",
        "x = np.linspace(0.1, 30, num=60)\n",
        "y = f(x)\n",
        "\n",
        "def move_spines():\n",
        "    fix, ax = plt.subplots()\n",
        "    for spine in [\"left\", \"bottom\"]:\n",
        "        ax.spines[spine].set_position(\"zero\")\n",
        "    \n",
        "    for spine in [\"right\", \"top\"]:\n",
        "        ax.spines[spine].set_color(\"none\")\n",
        "    \n",
        "    return ax\n",
        "\n",
        "ax = move_spines()\n",
        "ax.grid()\n",
        "ax.plot(x, f(x))\n",
        "plt.legend()\n",
        "plt.title(r\"Grafico de $f(x)=1/x$\")\n",
        "plt.ylabel('f(x)')\n",
        "plt.xlabel('x')\n",
        "plt.show()"
      ],
      "execution_count": 1,
      "outputs": [
        {
          "output_type": "stream",
          "text": [
            "No handles with labels found to put in legend.\n"
          ],
          "name": "stderr"
        },
        {
          "output_type": "display_data",
          "data": {
            "image/png": "[encoded data removed]",
            "text/plain": [
              "<Figure size 432x288 with 1 Axes>"
            ]
          },
          "metadata": {
            "tags": [],
            "needs_background": "light"
          }
        }
      ]
    },
    {
      "cell_type": "code",
      "metadata": {
        "id": "hG-SLUNiH6VI",
        "colab_type": "code",
        "colab": {
          "base_uri": "https://localhost:8080/",
          "height": 49,
          "referenced_widgets": [
            "1b8001b51c3f4e51a92168adaac3564b",
            "4cace9778ba24e4ea60192233d9ac900",
            "37d3ad0baac944ff818403991f75b3f4"
          ]
        },
        "outputId": "82300d58-9ad0-4195-c807-354c36f3ff15"
      },
      "source": [
        "import ipywidgets as widgets\n",
        "from IPython.display import display, HTML\n",
        "\n",
        "javascript_functions = {False: \"hide()\", True: \"show()\"}\n",
        "button_descriptions  = {False: \"Show code\", True: \"Hide code\"}\n",
        "\n",
        "\n",
        "def toggle_code(state):\n",
        "\n",
        "    \"\"\"\n",
        "    Toggles the JavaScript show()/hide() function on the div.input element.\n",
        "    \"\"\"\n",
        "\n",
        "    output_string = \"<script>$(\\\"div.input\\\").{}</script>\"\n",
        "    output_args   = (javascript_functions[state],)\n",
        "    output        = output_string.format(*output_args)\n",
        "\n",
        "    display(HTML(output))\n",
        "\n",
        "\n",
        "def button_action(value):\n",
        "\n",
        "    \"\"\"\n",
        "    Calls the toggle_code function and updates the button description.\n",
        "    \"\"\"\n",
        "\n",
        "    state = value.new\n",
        "\n",
        "    toggle_code(state)\n",
        "\n",
        "    value.owner.description = button_descriptions[state]\n",
        "\n",
        "\n",
        "state = False\n",
        "toggle_code(state)\n",
        "\n",
        "button = widgets.ToggleButton(state, description = button_descriptions[state])\n",
        "button.observe(button_action, \"value\")\n",
        "\n",
        "display(button)"
      ],
      "execution_count": 2,
      "outputs": [
        {
          "output_type": "display_data",
          "data": {
            "text/html": [
              "<script>$(\"div.input\").hide()</script>"
            ],
            "text/plain": [
              "<IPython.core.display.HTML object>"
            ]
          },
          "metadata": {
            "tags": []
          }
        },
        {
          "output_type": "display_data",
          "data": {
            "application/vnd.jupyter.widget-view+json": {
              "model_id": "1b8001b51c3f4e51a92168adaac3564b",
              "version_minor": 0,
              "version_major": 2
            },
            "text/plain": [
              "ToggleButton(value=False, description='Show code')"
            ]
          },
          "metadata": {
            "tags": []
          }
        }
      ]
    }
  ]
}