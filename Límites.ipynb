{
  "nbformat": 4,
  "nbformat_minor": 0,
  "metadata": {
    "kernelspec": {
      "name": "python3",
      "display_name": "Python 3"
    },
    "colab": {
      "name": "Límites.ipynb",
      "provenance": [],
      "collapsed_sections": [],
      "include_colab_link": true
    },
    "widgets": {
      "application/vnd.jupyter.widget-state+json": {
        "1c20ec6e24eb47be985e318beae2c12c": {
          "model_module": "@jupyter-widgets/controls",
          "model_name": "ToggleButtonModel",
          "state": {
            "_view_name": "ToggleButtonView",
            "style": "IPY_MODEL_0d22c52348934c72a78fc1569e5977c8",
            "_dom_classes": [],
            "description": "Show code",
            "_model_name": "ToggleButtonModel",
            "button_style": "",
            "_view_module": "@jupyter-widgets/controls",
            "_model_module_version": "1.5.0",
            "tooltip": "",
            "_view_count": null,
            "disabled": false,
            "_view_module_version": "1.5.0",
            "value": false,
            "description_tooltip": null,
            "_model_module": "@jupyter-widgets/controls",
            "layout": "IPY_MODEL_32b6e5c159a14affa7d235f5e476bc49",
            "icon": ""
          }
        },
        "0d22c52348934c72a78fc1569e5977c8": {
          "model_module": "@jupyter-widgets/controls",
          "model_name": "DescriptionStyleModel",
          "state": {
            "_view_name": "StyleView",
            "_model_name": "DescriptionStyleModel",
            "description_width": "",
            "_view_module": "@jupyter-widgets/base",
            "_model_module_version": "1.5.0",
            "_view_count": null,
            "_view_module_version": "1.2.0",
            "_model_module": "@jupyter-widgets/controls"
          }
        },
        "32b6e5c159a14affa7d235f5e476bc49": {
          "model_module": "@jupyter-widgets/base",
          "model_name": "LayoutModel",
          "state": {
            "_view_name": "LayoutView",
            "grid_template_rows": null,
            "right": null,
            "justify_content": null,
            "_view_module": "@jupyter-widgets/base",
            "overflow": null,
            "_model_module_version": "1.2.0",
            "_view_count": null,
            "flex_flow": null,
            "width": null,
            "min_width": null,
            "border": null,
            "align_items": null,
            "bottom": null,
            "_model_module": "@jupyter-widgets/base",
            "top": null,
            "grid_column": null,
            "overflow_y": null,
            "overflow_x": null,
            "grid_auto_flow": null,
            "grid_area": null,
            "grid_template_columns": null,
            "flex": null,
            "_model_name": "LayoutModel",
            "justify_items": null,
            "grid_row": null,
            "max_height": null,
            "align_content": null,
            "visibility": null,
            "align_self": null,
            "height": null,
            "min_height": null,
            "padding": null,
            "grid_auto_rows": null,
            "grid_gap": null,
            "max_width": null,
            "order": null,
            "_view_module_version": "1.2.0",
            "grid_template_areas": null,
            "object_position": null,
            "object_fit": null,
            "grid_auto_columns": null,
            "margin": null,
            "display": null,
            "left": null
          }
        }
      }
    }
  },
  "cells": [
    {
      "cell_type": "markdown",
      "metadata": {
        "id": "view-in-github",
        "colab_type": "text"
      },
      "source": [
        "<a href=\"https://colab.research.google.com/github/Pamela-ruiz9/JupiterPam/blob/master/L%C3%ADmites.ipynb\" target=\"_parent\"><img src=\"https://colab.research.google.com/assets/colab-badge.svg\" alt=\"Open In Colab\"/></a>"
      ]
    },
    {
      "cell_type": "markdown",
      "metadata": {
        "id": "MfrLEZ67VFAW",
        "colab_type": "text"
      },
      "source": [
        "<font color=\"Teal\" face=\"Comic Sans MS,arial\">\n",
        "  <h1 align=\"center\"><i>Límites</i></h1>\n",
        "  </font>\n",
        "  <font color=\"Black\" face=\"Comic Sans MS,arial\">\n",
        "  <h5 align=\"center\"><i>Autor: Ingrid Pamela Ruiz Puga</i></h5>\n",
        "  <h5 align=\"center\"><i>Proyecto PAPIME PE101019</i></h5>\n",
        "  </font>\n",
        "\n",
        "\n",
        "---\n",
        "  ## Introducción\n",
        "\n",
        "\n",
        "En matemática, el límite es un concepto que describe la tendencia de una sucesión o una función, a medida que los parámetros de esa sucesión o función se acercan a determinado valor. El límite de una función es un concepto fundamental del cálculo diferencial matemático.\n",
        "El matemático francés Augustine Louis Cauchy (1789-1857) fue el primero en desarrollar una definición rigurosa de límite, pero fueron usados desde los antigues griegos para el cálculo de áreas. Luis Cauchy definió el concepto de límite de la siguiente manera:\n",
        "\n",
        "    \"Cuando los valores atribuidos sucesivamente a una variable se aproximan indefinidamente a un valor fijo para llegar por último a diferir de ese valor en una cantidad tan pequeña como se desee, entonces dicho valor fijo recibe el nombre de límmite de todos los demas valores.\"\n",
        "  ## Noción y definición de límite\n",
        "<p align=\"justify\">El concepto de límite puede ser complicado en algunas ocasiones por lo que comenzaremos con la siguiente noción de límite. Una función puede no estar definida o llegar a mostrar un comportamiento extraño para cierto punto del rango. Por lo que para comprender mejor este tipo de anomalías de algunas funciones introducimos el concepto de límite de una función en cierto punto.</p>\n",
        "<p> El límite de una función en un punto es obtener el valor al que se va aproximando esa función cuando x tiende a un determinado punto, pero sin llegar a ese punto.</p>\n",
        "<p> Por ejemplo, para determinar el límite de y = f(x) en cierto punto x = a ,  debemos prescindir del valor que tenga f(a), incluso puede que f(a) ni siquiera esté definido, y fijarnos en los valores de f(a) para <em>puntos extremadamente cercanos</em> a x = a. </p>\n"
      ]
    },
    {
      "cell_type": "markdown",
      "metadata": {
        "collapsed": true,
        "id": "PmYGfuJ0VFAX",
        "colab_type": "text"
      },
      "source": [
        "![limite](https://www.fca.unl.edu.ar/Limite/Image34.gif)"
      ]
    },
    {
      "cell_type": "markdown",
      "metadata": {
        "collapsed": true,
        "id": "7DtKZJZAVFAY",
        "colab_type": "text"
      },
      "source": [
        "<p> En el ejemplo de la figura anterior se puede observar que para los valores de los valores de <em>x</em> muy proximos al valor <em>x = a </em> el límite de y = f(x) es <em>L.</em> Siguiendo con la noción anterior la sintaxis matematica del limite sería: </p>\n"
      ]
    },
    {
      "cell_type": "markdown",
      "metadata": {
        "id": "Ql6vrdcLVFAZ",
        "colab_type": "text"
      },
      "source": [
        "$$ \\lim_{x \\to a}f(x)=L $$"
      ]
    },
    {
      "cell_type": "markdown",
      "metadata": {
        "id": "R-1SlzYBVFAa",
        "colab_type": "text"
      },
      "source": [
        "## Solución de límites\n",
        "\n",
        "Existen diversos tipos de límites para los cuales se determidan métodos de solución. Para las funciones con diminio en todo ${\\rm I\\!R}$ y continuas, se deben calcular los límites sustituyendo el valor al que tiende x."
      ]
    },
    {
      "cell_type": "markdown",
      "metadata": {
        "id": "cH-CvdAuVFAa",
        "colab_type": "text"
      },
      "source": [
        "**Ejemplo 1:** La función $f(x) = x^2 + 2x +1$ debe valuarse en el punto para en cual tiende x en el límite. Visualicemos la gráfica de la función."
      ]
    },
    {
      "cell_type": "code",
      "metadata": {
        "id": "LF-HeJzFJ1b4",
        "colab_type": "code",
        "colab": {}
      },
      "source": [
        "from sympy import limit, oo, Symbol \n",
        "import math\n",
        "import matplotlib.pyplot as plt\n",
        "import numpy as np"
      ],
      "execution_count": 17,
      "outputs": []
    },
    {
      "cell_type": "code",
      "metadata": {
        "id": "RkqQ2NzBVFAb",
        "colab_type": "code",
        "colab": {
          "base_uri": "https://localhost:8080/",
          "height": 289
        },
        "outputId": "41fef460-edb0-414c-8581-4e761baae915"
      },
      "source": [
        "%matplotlib inline\n",
        "\n",
        "def f(x):\n",
        "    return x**2 + 2*x + 1\n",
        "\n",
        "x = np.array([1, 1.5, 1.9, 1.95, 1.99, 1.999, 2.001, 2.05, 2.1, 2.2, 2.5, 3 ])\n",
        "y = f(x)\n",
        "x = np.linspace(-2, 4, num=30)\n",
        "\n",
        "def move_spines():\n",
        "    fix, ax = plt.subplots()\n",
        "    for spine in [\"left\", \"bottom\"]:\n",
        "        ax.spines[spine].set_position(\"zero\")\n",
        "    \n",
        "    for spine in [\"right\", \"top\"]:\n",
        "        ax.spines[spine].set_color(\"none\")\n",
        "    \n",
        "    return ax\n",
        "\n",
        "ax = move_spines()\n",
        "ax.grid()\n",
        "ax.plot(x, f(x))\n",
        "ax.scatter(-1, 0, label=\"limite cuando x tiende a 2\", color='r')\n",
        "plt.legend()\n",
        "plt.title(r\"Grafico de $f(x)=x^2 + 2x + 1$\")\n",
        "plt.ylabel('f(x)')\n",
        "plt.xlabel('x')\n",
        "plt.show()"
      ],
      "execution_count": 19,
      "outputs": [
        {
          "output_type": "display_data",
          "data": {
            "image/png": "[encoded data removed]",
            "text/plain": [
              "<Figure size 432x288 with 1 Axes>"
            ]
          },
          "metadata": {
            "tags": [],
            "needs_background": "light"
          }
        }
      ]
    },
    {
      "cell_type": "markdown",
      "metadata": {
        "id": "Ir-JIPTAVFAi",
        "colab_type": "text"
      },
      "source": [
        "Por lo que para encontrar el límite de dicha función cuando x tiende a -1 sería:\n",
        "\n",
        "$$\\lim_{x \\to -1} x^2 + 2x +1 = (-1)^2 + 2(-1) + 1 = 0 $$\n",
        "\n",
        "Comprobando en Python:"
      ]
    },
    {
      "cell_type": "code",
      "metadata": {
        "id": "0KiI4loOVFAj",
        "colab_type": "code",
        "colab": {
          "base_uri": "https://localhost:8080/",
          "height": 35
        },
        "outputId": "4682e169-c594-4021-ceda-41b933ac0bf0"
      },
      "source": [
        "x = Symbol('x') \n",
        "y=x*x + 2*x +1\n",
        "limit(y, x, -1)"
      ],
      "execution_count": 6,
      "outputs": [
        {
          "output_type": "execute_result",
          "data": {
            "text/plain": [
              "0"
            ]
          },
          "metadata": {
            "tags": []
          },
          "execution_count": 6
        }
      ]
    },
    {
      "cell_type": "markdown",
      "metadata": {
        "id": "GavMK1fPVFAm",
        "colab_type": "text"
      },
      "source": [
        "**Ejemplo 2:** Encontrar el límite de la función cuando x tiende a 4 sería:\n",
        "\n",
        "$$\\lim_{x \\to 4} x^2 = 16 $$\n",
        "\n",
        "Comprobando en Python:"
      ]
    },
    {
      "cell_type": "code",
      "metadata": {
        "id": "oeTPofIMVFAn",
        "colab_type": "code",
        "colab": {
          "base_uri": "https://localhost:8080/",
          "height": 35
        },
        "outputId": "0e9d40e7-bc98-4e4b-8ad4-b1b230680ee4"
      },
      "source": [
        "x = Symbol('x') \n",
        "y=x*x\n",
        "limit(y, x, 4)"
      ],
      "execution_count": 7,
      "outputs": [
        {
          "output_type": "execute_result",
          "data": {
            "text/plain": [
              "16"
            ]
          },
          "metadata": {
            "tags": []
          },
          "execution_count": 7
        }
      ]
    },
    {
      "cell_type": "markdown",
      "metadata": {
        "id": "u--N_kD_VFAq",
        "colab_type": "text"
      },
      "source": [
        "**Ejemplo 3:** Encontrar el límite de la función cuando x tiende a 3 sería:\n",
        "\n",
        "$$\\lim_{x \\to 4} x^2 + 8x + 31 = 64 $$\n",
        "\n",
        "Comprobando en Python:"
      ]
    },
    {
      "cell_type": "code",
      "metadata": {
        "id": "ayUbzG0jVFAr",
        "colab_type": "code",
        "colab": {},
        "outputId": "d37441f1-abb1-470f-a1ee-daebc450f0c4"
      },
      "source": [
        "x = Symbol('x') \n",
        "y=x*x + 8*x + 31\n",
        "limit(y, x, 3)"
      ],
      "execution_count": null,
      "outputs": [
        {
          "output_type": "execute_result",
          "data": {
            "text/plain": [
              "64"
            ]
          },
          "metadata": {
            "tags": []
          },
          "execution_count": 11
        }
      ]
    },
    {
      "cell_type": "markdown",
      "metadata": {
        "id": "h73lGIEgVFAu",
        "colab_type": "text"
      },
      "source": [
        "**Ejemplo 4:** Encontrar el límite de la función cuando x tiende a 2 sería:\n",
        "\n",
        "$$\\lim_{x \\to 2} x^2 - x + 2 = 4 $$\n",
        "\n",
        "Comprobando en Python:"
      ]
    },
    {
      "cell_type": "code",
      "metadata": {
        "id": "xOKSjtX6VFAv",
        "colab_type": "code",
        "colab": {
          "base_uri": "https://localhost:8080/",
          "height": 318
        },
        "outputId": "c0e21247-a62c-4c52-f29b-90778ea1dfd3"
      },
      "source": [
        "%matplotlib inline\n",
        "\n",
        "def f(x):\n",
        "    return x**2 - x + 2\n",
        "\n",
        "x = np.array([1, 1.5, 1.9, 1.95, 1.99, 1.999, 2.001, 2.05, 2.1, 2.2, 2.5, 3 ])\n",
        "y = f(x)\n",
        "x = np.linspace(-2, 4, num=30)\n",
        "\n",
        "def move_spines():\n",
        "    fix, ax = plt.subplots()\n",
        "    for spine in [\"left\", \"bottom\"]:\n",
        "        ax.spines[spine].set_position(\"zero\")\n",
        "    \n",
        "    for spine in [\"right\", \"top\"]:\n",
        "        ax.spines[spine].set_color(\"none\")\n",
        "    \n",
        "    return ax\n",
        "\n",
        "ax = move_spines()\n",
        "ax.grid()\n",
        "ax.plot(x, f(x))\n",
        "ax.scatter(2, 4, label=\"limite cuando x tiende a 2\", color='r')\n",
        "plt.legend()\n",
        "plt.title(r\"Grafico de $f(x)=x^2 -x + 2$\")\n",
        "plt.ylabel('f(x)')\n",
        "plt.xlabel('x')\n",
        "plt.show()"
      ],
      "execution_count": 22,
      "outputs": [
        {
          "output_type": "display_data",
          "data": {
            "image/png": "[encoded data removed]",
            "text/plain": [
              "<Figure size 432x288 with 1 Axes>"
            ]
          },
          "metadata": {
            "tags": [],
            "needs_background": "light"
          }
        }
      ]
    },
    {
      "cell_type": "markdown",
      "metadata": {
        "id": "nmFDu0VHVFA0",
        "colab_type": "text"
      },
      "source": [
        "## Propiedades de los límites\n",
        "Algunas propiedades matemáticas de los límites pueden facilitar en algunos casos los cálculos en funciones más complejas. Considerando dos funciones definidas en un mismo intervalo.\n",
        "* **Unicidad del límite:** El límite de una función será único en caso de su existencia.\\\n",
        "* **Límite de una constante:** El limite de una constante *k* será igual a la constante *k*.\n",
        "$$\\lim_{x \\to a} k = k $$ \\\n",
        "* **Suma y resta \n",
        "de límites:** El límite de la suma será ña suma de los límites.\n",
        "$$\\lim_{x \\to a} [f(x) \\pm g(x) ] = \\lim_{x \\to a} f(x) \\pm \\lim_{x \\to a} g(x) $$ \\\n",
        "* **Producto de límites:** El límite del producto es el producto de los límites\n",
        "$$\\lim_{x \\to a} [f(x) \\cdot g(x) ] = \\lim_{x \\to a} f(x) \\cdot \\lim_{x \\to a} g(x) $$ \\\n",
        "* **Factor del límite:** El límite del producto de una constante por una función será la constante por el límite de la función.\n",
        "$$\\lim_{x \\to a} [k \\cdot f(x) ] = k \\cdot \\lim_{x \\to a} f(x) $$ \\\n",
        "* **Cociente de límites:**  El cociente de los límites de dos funciones será el límite del cociente de dichas funciones.\n",
        "$$ \\frac{\\lim_{x \\to a} f(x)}{\\lim_{x \\to a} g(x)} =  \\lim_{x \\to a} \\frac{f(x)}{g(x)} $$ \\\n",
        "* **Potencia del límite:** El límite de una función potencial es la potencia del límite de la base elevado al exponente.\n",
        "$$ \\lim_{x \\to a} [f(x)^k]=[\\lim_{x \\to a} f(x)]^k $$ \\\n",
        "* **Exponencial de un límite:** El límite de una función exponencial es la potencia de la base elevada al límite de la función exponente.\n",
        "$$ \\lim_{x \\to a} k^{f(x)}=k^{\\lim_{x \\to a} f(x)} $$ \\\n",
        "* **Raíz de un límite**: El límite de una raíz, es la raíz del límite.\n",
        "$$ \\lim_{x \\to a} \\sqrt[n]{f(x)}= \\sqrt[n]{\\lim_{x \\to a} f(x)} $$ \\\n",
        "* **Logarítmo de un límite:** El límite del logaritmo es el logaritmo del límite.\n",
        "$$ \\lim_{x \\to a} log_k f(x)= log_k \\lim_{x \\to a} f(x) $$ \\"
      ]
    },
    {
      "cell_type": "markdown",
      "metadata": {
        "id": "tW2s1goQVFA1",
        "colab_type": "text"
      },
      "source": [
        "**Ejemplo 1:** Calcular el limite de g(x)$\\cdotp$f(x) cuando $x \\longrightarrow 1$ si:\n",
        "\n",
        "$g(x) = x - 1 $ y   $f(x) = x + 1 $\n",
        "\n",
        "Buscamos $$ \\lim_{x \\to 1} f(x)\\cdotp g(x) = \\lim_{x \\to 1} f(x) \\cdotp \\lim_{x \\to 1} g(x) $$ \n",
        "\n",
        "$$ \\lim_{x \\to 1}  (x + 1) \\cdotp (x - 1) = \\lim_{x \\to 1} (x + 1) \\cdotp \\lim_{x \\to 1} (x - 1) $$ \n",
        "\n",
        "$$ \\Longrightarrow \\lim_{x \\to 1} (x + 1) \\cdotp \\lim_{x \\to 1} (x - 1) = (1 + 1)\\cdotp (1 - 1) = 0 $$ \n",
        "Verificando en python:\n"
      ]
    },
    {
      "cell_type": "code",
      "metadata": {
        "id": "iwx_pTYSVFA1",
        "colab_type": "code",
        "colab": {
          "base_uri": "https://localhost:8080/",
          "height": 35
        },
        "outputId": "3d2cb48f-b668-4cf2-fa33-e0a7b07d6bee"
      },
      "source": [
        "x = Symbol('x') \n",
        "f=x+1\n",
        "g=x-1\n",
        "limit(f*g, x, 1)"
      ],
      "execution_count": 8,
      "outputs": [
        {
          "output_type": "execute_result",
          "data": {
            "text/plain": [
              "0"
            ]
          },
          "metadata": {
            "tags": []
          },
          "execution_count": 8
        }
      ]
    },
    {
      "cell_type": "markdown",
      "metadata": {
        "id": "arEUN2gBVFA5",
        "colab_type": "text"
      },
      "source": [
        "**Ejemplo 2:** Calcular el limite de f(x) cuando $x \\longrightarrow 4$ si:\n",
        "\n",
        "$f(x) = \\sqrt{2x + 1} $\n",
        "\n",
        "Buscamos $$ \\lim_{x \\to a} \\sqrt{f(x)} = \\sqrt{\\lim_{x \\to a} f(x)}$$ \n",
        "\n",
        "$$ \\lim_{x \\to 4}  (2x + 1) = 9 $$ \n",
        "\n",
        "$$ \\Longrightarrow \\lim_{x \\to 4}  \\sqrt{f(x)} = \\sqrt{9} = 3 $$ \n",
        "Verificando en python:\n"
      ]
    },
    {
      "cell_type": "code",
      "metadata": {
        "id": "QjsbwCUdVFA5",
        "colab_type": "code",
        "colab": {
          "base_uri": "https://localhost:8080/",
          "height": 35
        },
        "outputId": "965b12f3-3e63-44ef-a3cd-1d2b04a3cd10"
      },
      "source": [
        "x = Symbol('x') \n",
        "f= 2*x +1\n",
        "math.sqrt(limit(f, x, 4))"
      ],
      "execution_count": 10,
      "outputs": [
        {
          "output_type": "execute_result",
          "data": {
            "text/plain": [
              "3.0"
            ]
          },
          "metadata": {
            "tags": []
          },
          "execution_count": 10
        }
      ]
    },
    {
      "cell_type": "markdown",
      "metadata": {
        "id": "ifNgeErMVFA8",
        "colab_type": "text"
      },
      "source": [
        "**Ejemplo 3:** Calcular el limite de f(x) cuando $x \\longrightarrow 2$ si:\n",
        "\n",
        "$f(x) = (x + 1)^2 $\n",
        "\n",
        "Buscamos $$ \\lim_{x \\to 2} (x + 1)^2 =(\\lim_{x \\to a} (x + 1) )^2$$ \n",
        "\n",
        "$$ \\lim_{x \\to 2}  (x + 1) = 3 $$ \n",
        "\n",
        "$$ \\Longrightarrow \\lim_{x \\to 2}  (x + 1)^2 = 3^2 =9$$ \n",
        "Verificando en python:\n"
      ]
    },
    {
      "cell_type": "code",
      "metadata": {
        "id": "WS3KXOz1VFA9",
        "colab_type": "code",
        "colab": {},
        "outputId": "a7f9114d-c350-4fee-c9d3-a9460fae2c48"
      },
      "source": [
        "x = Symbol('x') \n",
        "f= (x +1)**2\n",
        "limit(f, x, 2)"
      ],
      "execution_count": null,
      "outputs": [
        {
          "output_type": "execute_result",
          "data": {
            "text/plain": [
              "9"
            ]
          },
          "metadata": {
            "tags": []
          },
          "execution_count": 28
        }
      ]
    },
    {
      "cell_type": "markdown",
      "metadata": {
        "id": "8Yhg5YX2VFBA",
        "colab_type": "text"
      },
      "source": [
        "## Tipos de límites\n",
        "Existen diversos tipos de límites según el valor *x* al que tiendan y el valor del número al que recae su límite.\n",
        "\n",
        "### Límites laterales\n",
        "Algunas funciones poseen un discontinuidad en algun punto *x*, la gráfica se ve representada por un salto en dicho punto. Como se ve en la siguiente figura.\n",
        "\n",
        "![limite](https://upload.wikimedia.org/wikipedia/commons/thumb/8/8f/Funci%C3%B3n_xy_discontinua_11e.svg/200px-Funci%C3%B3n_xy_discontinua_11e.svg.png)\n",
        "\n",
        "El valor del límite dependerá del lado por el cual se acerca al valor *a*, es decir, si nos acercamos del lado izquierdo obtendremos un valor distinto a si nos acercamos del lado derecho debido a la discontinuidad.\n",
        "\n"
      ]
    },
    {
      "cell_type": "markdown",
      "metadata": {
        "id": "TtHcznczVFBF",
        "colab_type": "text"
      },
      "source": [
        "### Límites que tienden al infinito\n",
        "Un límite al infinito de una función *y* es aquel en el cual los valores tienden a infinito, es decir *x* se hace tan grande en los positivos como en los negativos. En este caso la manera de resolverlo resulta complicado, debido a que al evaluar una función en infinito el resultado es una función indefinida. Apesar de eso es posible conocer el valor del límite de la función cuando los valores tienden a infinito.\n",
        "\n",
        "**Ejemplo 1:** para la función $f(x)= \\frac{1}{x}$ queremos obtener el límite.\n",
        "$$\\lim_{x \\to \\infty} \\frac{1}{x} $$"
      ]
    },
    {
      "cell_type": "code",
      "metadata": {
        "id": "1HBsIy67VFBG",
        "colab_type": "code",
        "colab": {
          "base_uri": "https://localhost:8080/",
          "height": 305
        },
        "outputId": "b24df2e8-9831-481c-9b0b-d36ddac3b70a"
      },
      "source": [
        "%matplotlib inline\n",
        "\n",
        "def f(x):\n",
        "    return 1/x\n",
        "\n",
        "x = np.linspace(0.1, 30, num=60)\n",
        "y = f(x)\n",
        "\n",
        "def move_spines():\n",
        "    fix, ax = plt.subplots()\n",
        "    for spine in [\"left\", \"bottom\"]:\n",
        "        ax.spines[spine].set_position(\"zero\")\n",
        "    \n",
        "    for spine in [\"right\", \"top\"]:\n",
        "        ax.spines[spine].set_color(\"none\")\n",
        "    \n",
        "    return ax\n",
        "\n",
        "ax = move_spines()\n",
        "ax.grid()\n",
        "ax.plot(x, f(x))\n",
        "plt.legend()\n",
        "plt.title(r\"Grafico de $f(x)=1/x$\")\n",
        "plt.ylabel('f(x)')\n",
        "plt.xlabel('x')\n",
        "plt.show()"
      ],
      "execution_count": 21,
      "outputs": [
        {
          "output_type": "stream",
          "text": [
            "No handles with labels found to put in legend.\n"
          ],
          "name": "stderr"
        },
        {
          "output_type": "display_data",
          "data": {
            "image/png": "[encoded data removed]",
            "text/plain": [
              "<Figure size 432x288 with 1 Axes>"
            ]
          },
          "metadata": {
            "tags": [],
            "needs_background": "light"
          }
        }
      ]
    },
    {
      "cell_type": "markdown",
      "metadata": {
        "id": "TnZhf0RIVFBJ",
        "colab_type": "text"
      },
      "source": [
        "Como es posible observar en la gráfica de la función $f(x)=\\frac{1}{x}$ mientras más crece el valor de su límite se acerca al valor 0.\n",
        "Comprobando en python:"
      ]
    },
    {
      "cell_type": "code",
      "metadata": {
        "id": "M_Nw9dpgVFBJ",
        "colab_type": "code",
        "colab": {},
        "outputId": "aa1a8bf0-b08e-4b4d-c49c-d3863dbdaa0a"
      },
      "source": [
        "x = Symbol('x') \n",
        "y=1/x \n",
        "limit(y, x, oo)"
      ],
      "execution_count": null,
      "outputs": [
        {
          "output_type": "execute_result",
          "data": {
            "text/plain": [
              "0"
            ]
          },
          "metadata": {
            "tags": []
          },
          "execution_count": 87
        }
      ]
    },
    {
      "cell_type": "markdown",
      "metadata": {
        "id": "h-RRRSaFVFBM",
        "colab_type": "text"
      },
      "source": [
        "**Ejemplo 2:** Para la función $f(x)= x^{\\frac{1}{x}}$ queremos obtener el límite.\n",
        "$$\\lim_{x \\to \\infty} x^{\\frac{1}{x}} $$\n",
        "Observamos su gráfica...\n"
      ]
    },
    {
      "cell_type": "code",
      "metadata": {
        "id": "r_f73a69VFBO",
        "colab_type": "code",
        "colab": {
          "base_uri": "https://localhost:8080/",
          "height": 306
        },
        "outputId": "12d9a4b5-20af-459e-b29c-8a586b93bf31"
      },
      "source": [
        "%matplotlib inline\n",
        "\n",
        "def f(x):\n",
        "    return x**(1/x)\n",
        "\n",
        "x = np.linspace(0.4, 100, num=100)\n",
        "y = f(x)\n",
        "\n",
        "def move_spines():\n",
        "    fix, ax = plt.subplots()\n",
        "    for spine in [\"left\", \"bottom\"]:\n",
        "        ax.spines[spine].set_position(\"zero\")\n",
        "    \n",
        "    for spine in [\"right\", \"top\"]:\n",
        "        ax.spines[spine].set_color(\"none\")\n",
        "    \n",
        "    return ax\n",
        "\n",
        "ax = move_spines()\n",
        "ax.grid()\n",
        "ax.plot(x, f(x))\n",
        "plt.title(r\"Grafico de $f(x)=x^{\\frac{1}{x}}$\")\n",
        "plt.ylabel('f(x)')\n",
        "plt.xlabel('x')\n",
        "plt.show()"
      ],
      "execution_count": 20,
      "outputs": [
        {
          "output_type": "display_data",
          "data": {
            "image/png": "[encoded data removed]",
            "text/plain": [
              "<Figure size 432x288 with 1 Axes>"
            ]
          },
          "metadata": {
            "tags": [],
            "needs_background": "light"
          }
        }
      ]
    },
    {
      "cell_type": "markdown",
      "metadata": {
        "id": "iZwF8VtCVFBR",
        "colab_type": "text"
      },
      "source": [
        "Como es posible observar en la gráfica de la función $f(x)= x^{\\frac{1}{x}}$ mientras más crece el valor de su límite se acerca al valor 1.\n",
        "\n",
        "Comprobando en python:"
      ]
    },
    {
      "cell_type": "code",
      "metadata": {
        "id": "VTp9-B5EVFBS",
        "colab_type": "code",
        "colab": {
          "base_uri": "https://localhost:8080/",
          "height": 35
        },
        "outputId": "9854caa3-9319-484c-be47-3938736aaa9f"
      },
      "source": [
        "x = Symbol('x') \n",
        "y=x**(1/x) \n",
        "limit(y, x, oo)"
      ],
      "execution_count": 18,
      "outputs": [
        {
          "output_type": "execute_result",
          "data": {
            "text/plain": [
              "1"
            ]
          },
          "metadata": {
            "tags": []
          },
          "execution_count": 18
        }
      ]
    },
    {
      "cell_type": "markdown",
      "metadata": {
        "id": "GVp70faiVFBV",
        "colab_type": "text"
      },
      "source": [
        "**Ejemplo 3:** Para la función $f(x)= \\left( 1+\\frac{1}{x} \\right)^x$ queremos obtener el límite.\n",
        "$$\\lim_{x \\to \\infty} \\left( 1+\\frac{1}{x} \\right)^x $$\n",
        "Observamos su gráfica...\n"
      ]
    },
    {
      "cell_type": "code",
      "metadata": {
        "id": "A4o72deQVFBW",
        "colab_type": "code",
        "colab": {
          "base_uri": "https://localhost:8080/",
          "height": 464
        },
        "outputId": "e227d1f9-a3eb-4360-b115-d81eb6f4dca2"
      },
      "source": [
        "%matplotlib inline\n",
        "\n",
        "def f(x):\n",
        "    return (1+(1/x))**x\n",
        "\n",
        "def g(x):\n",
        "    return x*0 + math.e\n",
        "\n",
        "x = np.linspace(0.1, 50, num=100)\n",
        "y = f(x)\n",
        "z = g(x)\n",
        "def move_spines():\n",
        "    fix, ax = plt.subplots()\n",
        "    for spine in [\"left\", \"bottom\"]:\n",
        "        ax.spines[spine].set_position(\"zero\")\n",
        "    \n",
        "    for spine in [\"right\", \"top\"]:\n",
        "        ax.spines[spine].set_color(\"none\")\n",
        "    \n",
        "    return ax\n",
        "\n",
        "ax = move_spines()\n",
        "ax.grid()\n",
        "ax.plot(x, f(x))\n",
        "ax.plot(x, g(x))\n",
        "ax.scatter(30,2.7182, label=\"Numero de Euler\", color='g')\n",
        "plt.legend()\n",
        "plt.title(r\"Grafico de $f(x)=\\left( 1+\\frac{1}{x} \\right)^x$\")\n",
        "plt.ylabel('f(x)')\n",
        "plt.xlabel('x')\n",
        "plt.show()"
      ],
      "execution_count": 15,
      "outputs": [
        {
          "output_type": "display_data",
          "data": {
            "image/png": "[encoded data removed]",
            "text/plain": [
              "<Figure size 432x288 with 1 Axes>"
            ]
          },
          "metadata": {
            "tags": [],
            "needs_background": "light"
          }
        }
      ]
    },
    {
      "cell_type": "markdown",
      "metadata": {
        "id": "AYVD8PoAVFBc",
        "colab_type": "text"
      },
      "source": [
        "Es posible observar que el límite de esta función cuando x tiende a infinito es el número de Euler.\n",
        "\n",
        "Comprobando con Python:"
      ]
    },
    {
      "cell_type": "code",
      "metadata": {
        "id": "kj19dUGeVFBc",
        "colab_type": "code",
        "colab": {},
        "outputId": "6a61f25d-365f-4143-c15c-68e3844ab85a"
      },
      "source": [
        "x = Symbol('x') \n",
        "y=(1+(1/x))**x \n",
        "limit(y, x, oo)"
      ],
      "execution_count": null,
      "outputs": [
        {
          "output_type": "execute_result",
          "data": {
            "text/plain": [
              "E"
            ]
          },
          "metadata": {
            "tags": []
          },
          "execution_count": 82
        }
      ]
    },
    {
      "cell_type": "markdown",
      "metadata": {
        "id": "-rfKbkftVFBf",
        "colab_type": "text"
      },
      "source": [
        "### Límites infinitos\n",
        "Un límite infinito es aquel que mientras más se acerque al punto *x=a* el valor del límite será $\\pm \\infty$ por lo que el valor de la función en dicho punto será infinito.\n",
        "\n",
        "**Ejemplo 1:** Para la función $f(x)= \\frac{1}{x^2} + 1$ buscaremos su límite cuando x tiende a cero, es decir;\n",
        "$$\\lim_{x \\to 0} \\frac{1}{x^2}+1 $$\n"
      ]
    },
    {
      "cell_type": "code",
      "metadata": {
        "id": "YGEquY38VFBf",
        "colab_type": "code",
        "colab": {
          "base_uri": "https://localhost:8080/",
          "height": 295
        },
        "outputId": "f42c0b2a-b319-4034-e11c-a5263b664a11"
      },
      "source": [
        "%matplotlib inline\n",
        "\n",
        "def f(x):\n",
        "    return (1+(1/x**2))\n",
        "\n",
        "x = np.linspace(-5, 5, num=50)\n",
        "y = f(x)\n",
        "\n",
        "def move_spines():\n",
        "    fix, ax = plt.subplots()\n",
        "    for spine in [\"left\", \"bottom\"]:\n",
        "        ax.spines[spine].set_position(\"zero\")\n",
        "    \n",
        "    for spine in [\"right\", \"top\"]:\n",
        "        ax.spines[spine].set_color(\"none\")\n",
        "    return ax\n",
        "\n",
        "ax = move_spines()\n",
        "ax.grid()\n",
        "ax.plot(x, f(x))\n",
        "plt.title(r\"Grafico de $f(x)= \\frac{1}{x^2}+1$\")\n",
        "plt.ylabel('f(x)')\n",
        "plt.xlabel('x')\n",
        "plt.show()"
      ],
      "execution_count": 23,
      "outputs": [
        {
          "output_type": "display_data",
          "data": {
            "image/png": "[encoded data removed]",
            "text/plain": [
              "<Figure size 432x288 with 1 Axes>"
            ]
          },
          "metadata": {
            "tags": [],
            "needs_background": "light"
          }
        }
      ]
    },
    {
      "cell_type": "markdown",
      "metadata": {
        "id": "6fdHwzkuVFBi",
        "colab_type": "text"
      },
      "source": [
        "En la gráfica anterior, es posible observar que mientras más se acerca la función al punto *x=0* el valor del límite será infinito.\n",
        "\n",
        "Comprobando con Python..."
      ]
    },
    {
      "cell_type": "code",
      "metadata": {
        "id": "ejzkX86CVFBi",
        "colab_type": "code",
        "colab": {},
        "outputId": "ecbfe6a9-21c2-4418-fffc-47502ed7d2a2"
      },
      "source": [
        "x = Symbol('x') \n",
        "y=1+(1/x**2) \n",
        "limit(y, x, 0)"
      ],
      "execution_count": null,
      "outputs": [
        {
          "output_type": "execute_result",
          "data": {
            "text/plain": [
              "oo"
            ]
          },
          "metadata": {
            "tags": []
          },
          "execution_count": 100
        }
      ]
    },
    {
      "cell_type": "markdown",
      "metadata": {
        "id": "HPc9bfZtVFBl",
        "colab_type": "text"
      },
      "source": [
        "## Caso práctico \n",
        "\n",
        "Supongamos que el crecimiento del parque vehicular en la Ciudad del Carmen se comporta igual que la función $e^x$ definida en los reales positivos ${\\rm I\\!R}^+$, es decir, en la Ciudad del Carmen los automoviles que circulan diario ha aumentado exponencialmente año con año. Veamos el comportamiento del parque vehicular en la siguiente gráfica:\n"
      ]
    },
    {
      "cell_type": "code",
      "metadata": {
        "id": "TC11gT9HVFBl",
        "colab_type": "code",
        "colab": {
          "base_uri": "https://localhost:8080/",
          "height": 285
        },
        "outputId": "6f981836-45af-4a8d-d759-9874314e30ab"
      },
      "source": [
        "%matplotlib inline\n",
        "\n",
        "def f(x):\n",
        "    return (math.e **x)\n",
        "\n",
        "x = np.linspace(0, 10, num=50)\n",
        "y = f(x)\n",
        "\n",
        "def move_spines():\n",
        "    fix, ax = plt.subplots()\n",
        "    for spine in [\"left\", \"bottom\"]:\n",
        "        ax.spines[spine].set_position(\"zero\")\n",
        "    \n",
        "    for spine in [\"right\", \"top\"]:\n",
        "        ax.spines[spine].set_color(\"none\")\n",
        "    return ax\n",
        "\n",
        "ax = move_spines()\n",
        "ax.grid()\n",
        "ax.plot(x, f(x))\n",
        "plt.title(r\"Grafico de crecimiento vehicular\")\n",
        "plt.ylabel('f(x)')\n",
        "plt.xlabel('x')\n",
        "plt.show()"
      ],
      "execution_count": null,
      "outputs": [
        {
          "output_type": "display_data",
          "data": {
            "image/png": "[encoded data removed]",
            "text/plain": [
              "<Figure size 432x288 with 1 Axes>"
            ]
          },
          "metadata": {
            "tags": [],
            "needs_background": "light"
          }
        }
      ]
    },
    {
      "cell_type": "markdown",
      "metadata": {
        "id": "IwI7iS2vVFBo",
        "colab_type": "text"
      },
      "source": [
        "El motivo del gran crecimiento de parque vehicular en el octavo año se debe a la incorporación de una nueva marca de autos al mercado, la cual ha tenido gran éxito visualizado en una enorme número de ventas en los ultimos dos años.\n",
        "\n",
        "El gobierno esta preocupado debido a la sobrepoblación vehicular y le gustaria conocer el crecimiento del parque vehicular para el siguiente año, de este modo podría establaecer planes para evitar el congestionamiento en grandes avenidas.\n",
        "\n",
        "#### Solución \n",
        "\n",
        "Debido a que nuesto estudio comenzó en el año 0 se esta buscando el límite de la función que describe el comportamiento del crecimiento en el parque vehicular de cierta ciudad, después de la incorporación de la nueva marca al mercado, dado que se visualiza un notable incremento en el año 8 para el cual la marca ya llevaba 2 años vendiendo automoviles, buscaremos el límite de la función cuando nos acercamos al año 9."
      ]
    },
    {
      "cell_type": "code",
      "metadata": {
        "colab_type": "code",
        "id": "DNmHqfhpdulJ",
        "colab": {
          "base_uri": "https://localhost:8080/",
          "height": 35
        },
        "outputId": "3e7cd28c-3aae-48e9-8b21-46b51117b5c4"
      },
      "source": [
        "x = Symbol('x') \n",
        "y=(math.e **x) \n",
        "limit(y, x, 9)"
      ],
      "execution_count": null,
      "outputs": [
        {
          "output_type": "execute_result",
          "data": {
            "text/plain": [
              "8103.08392757538"
            ]
          },
          "metadata": {
            "tags": []
          },
          "execution_count": 2
        }
      ]
    },
    {
      "cell_type": "markdown",
      "metadata": {
        "id": "4r8z9NZIeRt7",
        "colab_type": "text"
      },
      "source": [
        "Es claro que el crecimiento vehicular en Ciudad del Carmen ha sido rápido por lo que se espera que para el año 9 tengan 8103 automoviles en cisculación según el comportamiento que se ha definido bajo la función exponencial.\n",
        "\n",
        "El uso de los límites facilitan el cálculo y resolución de problemas cotidianos, que pueden ser de gran relevancia para establecer estrategias a seguir.\n",
        "\n",
        "\n",
        "\n"
      ]
    },
    {
      "cell_type": "markdown",
      "metadata": {
        "colab_type": "text",
        "id": "yuSKZnK_14Ji"
      },
      "source": [
        "## Caso práctico 2\n",
        "\n",
        "El departamento de investigación clínica de la NASA tiene un nuevo expediente secreto en el cual han descubierto un organismo vivo encontrado en uno de los satélites que estan en orbita en el espacio exterior. Se analizaron los organismo y se concluyó que tiene características similares a los seres humanos entre las cuales debían monitorear el ritmo cardiaco del organismo. En una crisis el organismo tuvo un paro cardiaco y en los esfuerzos por estabilizarlo utilizaron dos medicamentos no probados anteriormente, lo único que se sabía sobre el médicamento es que el ritmo cardiaco subiría según el comportamiento de la siguiente función:\n",
        "$$Medicamento_1 = |sen(x) \\frac{x}{8}|$$\n",
        "$$Medicamento_2 = |cos(x) \\frac{x}{8}|$$\n",
        "\n",
        "La reacción que ambos mediacamentos tienen en el organismo se comporta de la siguiente manera:\n",
        "$$Medicamento = |sen(x) \\frac{x}{8} - cos(x) \\frac{x}{8}|$$\n",
        "A los medicos les interesa saber el tiempo que tardará el organismo en recuperar el ritmo cardiaco normal de 97 latidos por minuto para retirar el medicamento, pues en caso que tarde más de 15 minutos es muy probable que el resto de los organos colapsen.\n",
        "La función anterior representa los latidos obtenidos según los minutos transcurridos.\n",
        "\n",
        "La gráfica del comportamiento del ritmo cardiaco es la siguiente:"
      ]
    },
    {
      "cell_type": "code",
      "metadata": {
        "colab_type": "code",
        "id": "KtffmznGksZI",
        "colab": {
          "base_uri": "https://localhost:8080/",
          "height": 285
        },
        "outputId": "0b758c64-4ce6-4b97-804f-730144f7cca6"
      },
      "source": [
        "%matplotlib inline\n",
        "\n",
        "def f(x):\n",
        "    return abs(abs(np.sin(x)* (x/8))- abs(np.cos(x)*(x/8)))\n",
        "\n",
        "x = np.linspace(0, 10, num=50)\n",
        "y = f(x)\n",
        "\n",
        "def move_spines():\n",
        "    fix, ax = plt.subplots()\n",
        "    for spine in [\"left\", \"bottom\"]:\n",
        "        ax.spines[spine].set_position(\"zero\")\n",
        "    \n",
        "    for spine in [\"right\", \"top\"]:\n",
        "        ax.spines[spine].set_color(\"none\")\n",
        "    return ax\n",
        "\n",
        "ax = move_spines()\n",
        "ax.grid()\n",
        "ax.plot(x, f(x))\n",
        "plt.title(r\"Grafico del ritmo cardiaco\")\n",
        "plt.ylabel('f(x)')\n",
        "plt.xlabel('x')\n",
        "plt.show()"
      ],
      "execution_count": 24,
      "outputs": [
        {
          "output_type": "display_data",
          "data": {
            "image/png": "[encoded data removed]",
            "text/plain": [
              "<Figure size 432x288 with 1 Axes>"
            ]
          },
          "metadata": {
            "tags": [],
            "needs_background": "light"
          }
        }
      ]
    },
    {
      "cell_type": "markdown",
      "metadata": {
        "id": "qf25VLgTpaPM",
        "colab_type": "text"
      },
      "source": [
        "#### Solución\n",
        "Para conocer los minutos que tardará el organismo en tener 97 latidos por minuto buscaremos el límite de la función cuando x tiende a 97 es decir;\n",
        "$$\\lim_{x \\to 97} |sen(x) \\frac{x}{8} - cos(x) \\frac{x}{8}| $$\n",
        "entonces diremos que el resultado de dicho limute serán los minutos que el organismo tarde en en obtener un ritmo normal.\n"
      ]
    },
    {
      "cell_type": "code",
      "metadata": {
        "colab_type": "code",
        "id": "n6xRYP-Kr4ob",
        "colab": {
          "base_uri": "https://localhost:8080/",
          "height": 35
        },
        "outputId": "96e1af77-66eb-4ec3-ef18-10aa01ee029f"
      },
      "source": [
        "import sympy as sp\n",
        "x = Symbol('x') \n",
        "y= abs(abs(sp.sin(x)* (x/8))- abs(sp.cos(x)*(x/8)))\n",
        "limit(y, x, 97)"
      ],
      "execution_count": 26,
      "outputs": [
        {
          "output_type": "execute_result",
          "data": {
            "text/plain": [
              "-97*sin(97)/8 - 97*cos(97)/8"
            ]
          },
          "metadata": {
            "tags": []
          },
          "execution_count": 26
        }
      ]
    },
    {
      "cell_type": "markdown",
      "metadata": {
        "id": "l6mM3-Rl1rjW",
        "colab_type": "text"
      },
      "source": [
        "Por lo que el organismo tardará alrededor de 6 minutos y medio para alcanzar ritmo cardiaco normal y retirar el medicamento. Lo cual quiere decir que es posible que los medicos de la NASA estabilicen al organismo encontrado.\n",
        "\n",
        "## Referencias\n",
        "Para profundizar en los temas tratados en el presente documento se pueden consultar las siguientes fuentes.\n",
        "\n",
        "\n",
        "\n",
        "*   Cálculo 1 de una variable, Ron Larson, Bruce H. Edwards, México : McGraw-Hill Interamericana, 2010, p.90\n",
        "*   Matemáticas 1 : cálculo diferencial / Dennis G. Zill, Warren S. Wright ; adaptación y revisión técnica, Joel Ibarra Escutia ; p.87, México : McGraw-Hill Interamericana, 2011.\n",
        "*   Cálculo aplicado : competencias matemáticas a través de contextos / autores, Norma Patricia Salinas Martínez, Juan Antonio Alanís Rodríguez, José Luis Garza García, Ricardo Pulido Ríos, Francisco Xavier Santos Leal, Julio César Escobedo Mirales, México, D.F. : Cengage Learning, 2012-2013\n",
        "\n"
      ]
    },
    {
      "cell_type": "code",
      "metadata": {
        "id": "9xFpyTbuBANJ",
        "colab_type": "code",
        "colab": {
          "base_uri": "https://localhost:8080/",
          "height": 49,
          "referenced_widgets": [
            "1c20ec6e24eb47be985e318beae2c12c",
            "0d22c52348934c72a78fc1569e5977c8",
            "32b6e5c159a14affa7d235f5e476bc49"
          ]
        },
        "outputId": "4ae7efe7-65c8-4544-d568-985f80e3be7e"
      },
      "source": [
        "import ipywidgets as widgets\n",
        "from IPython.display import display, HTML\n",
        "\n",
        "javascript_functions = {False: \"hide()\", True: \"show()\"}\n",
        "button_descriptions  = {False: \"Show code\", True: \"Hide code\"}\n",
        "\n",
        "\n",
        "def toggle_code(state):\n",
        "\n",
        "    \"\"\"\n",
        "    Toggles the JavaScript show()/hide() function on the div.input element.\n",
        "    \"\"\"\n",
        "\n",
        "    output_string = \"<script>$(\\\"div.input\\\").{}</script>\"\n",
        "    output_args   = (javascript_functions[state],)\n",
        "    output        = output_string.format(*output_args)\n",
        "\n",
        "    display(HTML(output))\n",
        "\n",
        "\n",
        "def button_action(value):\n",
        "\n",
        "    \"\"\"\n",
        "    Calls the toggle_code function and updates the button description.\n",
        "    \"\"\"\n",
        "\n",
        "    state = value.new\n",
        "\n",
        "    toggle_code(state)\n",
        "\n",
        "    value.owner.description = button_descriptions[state]\n",
        "\n",
        "\n",
        "state = False\n",
        "toggle_code(state)\n",
        "\n",
        "button = widgets.ToggleButton(state, description = button_descriptions[state])\n",
        "button.observe(button_action, \"value\")\n",
        "\n",
        "display(button)"
      ],
      "execution_count": 4,
      "outputs": [
        {
          "output_type": "display_data",
          "data": {
            "text/html": [
              "<script>$(\"div.input\").hide()</script>"
            ],
            "text/plain": [
              "<IPython.core.display.HTML object>"
            ]
          },
          "metadata": {
            "tags": []
          }
        },
        {
          "output_type": "display_data",
          "data": {
            "application/vnd.jupyter.widget-view+json": {
              "model_id": "1c20ec6e24eb47be985e318beae2c12c",
              "version_minor": 0,
              "version_major": 2
            },
            "text/plain": [
              "ToggleButton(value=False, description='Show code')"
            ]
          },
          "metadata": {
            "tags": []
          }
        },
        {
          "output_type": "display_data",
          "data": {
            "text/html": [
              "<script>$(\"div.input\").show()</script>"
            ],
            "text/plain": [
              "<IPython.core.display.HTML object>"
            ]
          },
          "metadata": {
            "tags": []
          }
        },
        {
          "output_type": "display_data",
          "data": {
            "text/html": [
              "<script>$(\"div.input\").hide()</script>"
            ],
            "text/plain": [
              "<IPython.core.display.HTML object>"
            ]
          },
          "metadata": {
            "tags": []
          }
        },
        {
          "output_type": "display_data",
          "data": {
            "text/html": [
              "<script>$(\"div.input\").show()</script>"
            ],
            "text/plain": [
              "<IPython.core.display.HTML object>"
            ]
          },
          "metadata": {
            "tags": []
          }
        },
        {
          "output_type": "display_data",
          "data": {
            "text/html": [
              "<script>$(\"div.input\").hide()</script>"
            ],
            "text/plain": [
              "<IPython.core.display.HTML object>"
            ]
          },
          "metadata": {
            "tags": []
          }
        },
        {
          "output_type": "display_data",
          "data": {
            "text/html": [
              "<script>$(\"div.input\").show()</script>"
            ],
            "text/plain": [
              "<IPython.core.display.HTML object>"
            ]
          },
          "metadata": {
            "tags": []
          }
        },
        {
          "output_type": "display_data",
          "data": {
            "text/html": [
              "<script>$(\"div.input\").hide()</script>"
            ],
            "text/plain": [
              "<IPython.core.display.HTML object>"
            ]
          },
          "metadata": {
            "tags": []
          }
        }
      ]
    }
  ]
}